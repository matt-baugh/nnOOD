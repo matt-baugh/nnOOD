{
 "cells": [
  {
   "cell_type": "code",
   "execution_count": null,
   "metadata": {
    "pycharm": {
     "name": "#%%\n"
    }
   },
   "outputs": [],
   "source": [
    "import numpy as np\n",
    "import matplotlib.pyplot as plt\n",
    "import os\n",
    "import sys\n",
    "from tqdm import tqdm\n",
    "\n",
    "module_path = os.path.abspath(os.path.join('../..'))\n",
    "\n",
    "if module_path not in sys.path:\n",
    "    sys.path.append(module_path)\n",
    "\n",
    "def wl_to_lh(window, level):\n",
    "    low = level - window / 2\n",
    "    high = level + window / 2\n",
    "    return low,high\n",
    "\n",
    "def display_image(img, phys_size=None, window=None, level=None, existing_ax=None):\n",
    "\n",
    "    if window is None:\n",
    "        window = np.max(img) - np.min(img)\n",
    "\n",
    "    if level is None:\n",
    "        level = window / 2 + np.min(img)\n",
    "\n",
    "    low,high = wl_to_lh(window,level)\n",
    "\n",
    "    if existing_ax is None:\n",
    "        # Display the orthogonal slices\n",
    "        fig, axes = plt.subplots(figsize=(14, 8))\n",
    "    else:\n",
    "        axes = existing_ax\n",
    "\n",
    "    axes.imshow(img, clim=(low, high), extent= None if phys_size is None else (0, phys_size[0], phys_size[1], 0), cmap='gray')\n",
    "\n",
    "    if existing_ax is None:\n",
    "        plt.show()\n",
    "        \n",
    "def print_stats(arr):\n",
    "        print(np.mean(arr),', ',np.std(arr))\n",
    "        print(np.min(arr), '-', np.max(arr))\n",
    "        print(arr.shape)"
   ]
  },
  {
   "cell_type": "code",
   "execution_count": null,
   "metadata": {
    "pycharm": {
     "name": "#%%\n"
    }
   },
   "outputs": [],
   "source": [
    "from nnood.utils.default_configuration import get_default_configuration\n",
    "\n",
    "def prepare_test_trainer(network_type, dset_name, task, network_trainer_type, fold):\n",
    "\n",
    "    plans_file, output_folder_name, dataset_directory, stage, trainer_class, task_class =\\\n",
    "        get_default_configuration(network_type, dset_name, task, network_trainer_type, silent=True)\n",
    "    \n",
    "    trainer = trainer_class(plans_file, fold, task_class, output_folder=output_folder_name,\n",
    "                            dataset_directory=dataset_directory, stage=stage, unpack_data=True,\n",
    "                            deterministic=False, fp16=True, load_dataset_ram=False)\n",
    "    \n",
    "    trainer.no_print = True\n",
    "    \n",
    "    # Need to set training to get datasets loaded\n",
    "    trainer.initialize(training=True)\n",
    "    trainer.load_final_checkpoint(train=True)\n",
    "    trainer.network.eval()\n",
    "    trainer.track_auroc = trainer.track_metrics = trainer.track_ap = True\n",
    "    \n",
    "    return trainer"
   ]
  },
  {
   "cell_type": "code",
   "execution_count": null,
   "metadata": {
    "pycharm": {
     "name": "#%%\n"
    }
   },
   "outputs": [],
   "source": [
    "curr_trainer = prepare_test_trainer('fullres', 'chestXray14_PA_male', 'FPI', 'nnOODTrainerDS', 0)"
   ]
  },
  {
   "cell_type": "code",
   "execution_count": null,
   "metadata": {
    "pycharm": {
     "name": "#%%\n"
    }
   },
   "outputs": [],
   "source": [
    "import torch\n",
    "\n",
    "def run_test_batch(trnr):\n",
    "    \n",
    "    with torch.no_grad():\n",
    "        trnr.run_iteration(trnr.val_gen, False, True)"
   ]
  },
  {
   "cell_type": "code",
   "execution_count": null,
   "metadata": {
    "pycharm": {
     "name": "#%%\n"
    }
   },
   "outputs": [],
   "source": [
    "curr_trainer.track_ap = True\n",
    "curr_trainer.trac_auroc = True\n",
    "\n",
    "for _ in tqdm(range(100)):\n",
    "    run_test_batch(curr_trainer)\n",
    "    \n",
    "curr_trainer.finish_online_evaluation()"
   ]
  },
  {
   "cell_type": "code",
   "execution_count": null,
   "metadata": {
    "pycharm": {
     "name": "#%%\n"
    }
   },
   "outputs": [],
   "source": [
    "all_results_auroc = {}\n",
    "all_results_ap = {}\n",
    "\n",
    "for dset in ['chestXray14_PA_male', 'chestXray14_PA_female']:\n",
    "    all_results_auroc[dset] = {}\n",
    "    all_results_ap[dset] = {}\n",
    "    print('Dataset', dset)\n",
    "    \n",
    "    for t in ['FPI', 'CutPaste', 'PII', 'NSA', 'NSAMixed']:\n",
    "        print('Task', t)\n",
    "        \n",
    "        all_results_auroc[dset][t] = {'all': []}\n",
    "        all_results_ap[dset][t] = {'all': []}\n",
    "        for i in range(5):\n",
    "            tmp_trainer = prepare_test_trainer('fullres', dset, t, 'nnOODTrainerDS', i)\n",
    "            \n",
    "            for _ in tqdm(range(40), desc=f'Fold {i}'):\n",
    "                run_test_batch(tmp_trainer)\n",
    "            \n",
    "            fold_res = tmp_trainer.finish_online_evaluation()\n",
    "            all_results_auroc[dset][t]['all'].append(fold_res['AUROC'])\n",
    "            all_results_ap[dset][t]['all'].append(fold_res['AP'])\n",
    "        \n",
    "        all_results_auroc[dset][t]['avg'] = np.mean(all_results_auroc[dset][t]['all'])\n",
    "        all_results_auroc[dset][t]['std'] = np.std(all_results_auroc[dset][t]['all'])\n",
    "        \n",
    "        all_results_ap[dset][t]['avg'] = np.mean(all_results_ap[dset][t]['all'])\n",
    "        all_results_ap[dset][t]['std'] = np.std(all_results_ap[dset][t]['all'])\n",
    "        \n",
    "        print('Average AUROC', all_results_auroc[dset][t]['avg'])\n",
    "        print('Average AP', all_results_ap[dset][t]['avg'])\n",
    "        print()\n",
    "            \n",
    "            "
   ]
  },
  {
   "cell_type": "code",
   "execution_count": null,
   "metadata": {
    "pycharm": {
     "name": "#%%\n"
    }
   },
   "outputs": [],
   "source": [
    "all_results_ap"
   ]
  },
  {
   "cell_type": "code",
   "execution_count": null,
   "metadata": {
    "pycharm": {
     "name": "#%%\n"
    }
   },
   "outputs": [],
   "source": [
    "from nnood.utils.file_operations import save_json, load_json\n",
    "\n",
    "save_json(all_results_auroc, 'trainer_auroc_resultsAP09.json')\n",
    "save_json(all_results_ap, 'trainer_ap_resultsAP09.json')"
   ]
  },
  {
   "cell_type": "code",
   "execution_count": null,
   "metadata": {
    "pycharm": {
     "name": "#%%\n"
    }
   },
   "outputs": [],
   "source": [
    "\n",
    "all_results_auroc_old = load_json('trainer_auroc_results.json')\n",
    "all_results_ap_old = load_json('trainer_ap_results.json')"
   ]
  },
  {
   "cell_type": "code",
   "execution_count": null,
   "metadata": {
    "pycharm": {
     "name": "#%%\n"
    }
   },
   "outputs": [],
   "source": [
    "for d_set in all_results_ap.keys():\n",
    "    print(d_set, '\\n')\n",
    "    for t in all_results_ap[d_set].keys():\n",
    "        print(t)\n",
    "        print('Old: ', all_results_ap_old[d_set][t]['avg'])\n",
    "        print('New: ', all_results_ap[d_set][t]['avg'])\n",
    "        print()"
   ]
  },
  {
   "cell_type": "code",
   "execution_count": null,
   "metadata": {
    "pycharm": {
     "name": "#%%\n"
    }
   },
   "outputs": [],
   "source": [
    "all_results_ap"
   ]
  },
  {
   "cell_type": "code",
   "execution_count": null,
   "metadata": {
    "pycharm": {
     "name": "#%%\n"
    }
   },
   "outputs": [],
   "source": [
    "all_results_auroc"
   ]
  },
  {
   "cell_type": "code",
   "execution_count": null,
   "metadata": {
    "pycharm": {
     "name": "#%%\n"
    }
   },
   "outputs": [],
   "source": []
  }
 ],
 "metadata": {
  "kernelspec": {
   "display_name": "Python 3",
   "language": "python",
   "name": "python3"
  },
  "language_info": {
   "codemirror_mode": {
    "name": "ipython",
    "version": 3
   },
   "file_extension": ".py",
   "mimetype": "text/x-python",
   "name": "python",
   "nbconvert_exporter": "python",
   "pygments_lexer": "ipython3",
   "version": "3.8.10"
  }
 },
 "nbformat": 4,
 "nbformat_minor": 4
}