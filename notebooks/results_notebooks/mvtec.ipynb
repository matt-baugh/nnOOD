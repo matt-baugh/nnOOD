{
 "cells": [
  {
   "cell_type": "code",
   "execution_count": null,
   "metadata": {
    "tags": [],
    "pycharm": {
     "name": "#%%\n"
    }
   },
   "outputs": [],
   "source": [
    "from collections import OrderedDict\n",
    "import pandas as pd\n",
    "\n",
    "from nnood.data.dataset_conversion.convert_mvtec import OBJECTS, TEXTURES\n",
    "from nnood.utils.file_operations import load_results_json\n",
    "import numpy as np\n",
    "\n",
    "def get_results(dataset, task, plans_identifier):\n",
    "    result_metrics = load_results_json(dataset, task, plans_identifier)['results']\n",
    "    return result_metrics"
   ]
  },
  {
   "cell_type": "code",
   "execution_count": null,
   "metadata": {
    "pycharm": {
     "name": "#%%\n"
    }
   },
   "outputs": [],
   "source": [
    "\n",
    "tasks = ['FPI', 'CutPaste']\n",
    "metrics = ['AP score', 'AUROC']"
   ]
  },
  {
   "cell_type": "code",
   "execution_count": null,
   "metadata": {
    "pycharm": {
     "name": "#%%\n"
    }
   },
   "outputs": [],
   "source": [
    "results = OrderedDict()\n",
    "\n",
    "for m in metrics:\n",
    "    results[m] = []\n",
    "\n",
    "for class_name in OBJECTS + TEXTURES:\n",
    "    \n",
    "    if class_name is TEXTURES[0]:\n",
    "        # Add objects average\n",
    "        for m in metrics:\n",
    "            all_object_results = results[m]\n",
    "            results[m].append(np.mean(all_object_results, axis=0))\n",
    "    \n",
    "    for m in metrics:\n",
    "        results[m].append([])\n",
    "    \n",
    "    for t in tasks:\n",
    "        metric_results = get_results('mvtec_ad_' + class_name, t)\n",
    "\n",
    "        for m in metrics:\n",
    "            results[m][-1].append(metric_results[m])\n",
    "\n",
    "for m in metrics:\n",
    "    # Add texture average\n",
    "    all_texture_results = results[m][-len(TEXTURES):]\n",
    "    \n",
    "    results[m].append(np.mean(all_texture_results, axis=0))\n",
    "    \n",
    "    # Add total average\n",
    "    all_nonaverage_results = np.concatenate((results[m][:len(OBJECTS)], results[m][len(OBJECTS) + 1: -1]))\n",
    "    \n",
    "    assert all_nonaverage_results.shape[0] == (len(OBJECTS) + len(TEXTURES)), f'Shape: {all_nonaverage_results.shape}'\n",
    "    results[m].append(np.mean(all_nonaverage_results, axis=0))\n",
    "\n",
    "\n",
    "                \n",
    "    "
   ]
  },
  {
   "cell_type": "code",
   "execution_count": null,
   "metadata": {
    "pycharm": {
     "name": "#%%\n"
    }
   },
   "outputs": [],
   "source": [
    "miindex = pd.MultiIndex.from_tuples(\n",
    "    [('Object', obj) for obj in OBJECTS + ['Average']] + [('Texture', txtr) for txtr in TEXTURES + ['Average']] + [('Total', 'Average')])\n",
    "dataframes = OrderedDict()\n",
    "\n",
    "for m in metrics:\n",
    "    dataframes[m] = pd.DataFrame(results[m], index=miindex, columns=tasks)\n"
   ]
  },
  {
   "cell_type": "code",
   "execution_count": null,
   "metadata": {
    "pycharm": {
     "name": "#%%\n"
    }
   },
   "outputs": [],
   "source": [
    "dataframes['AUROC']"
   ]
  },
  {
   "cell_type": "code",
   "execution_count": null,
   "metadata": {
    "pycharm": {
     "name": "#%%\n"
    }
   },
   "outputs": [],
   "source": [
    "auroc_avgs = dataframes['AUROC'].loc['Total', 'Average']\n"
   ]
  }
 ],
 "metadata": {
  "kernelspec": {
   "display_name": "Python 3",
   "language": "python",
   "name": "python3"
  },
  "language_info": {
   "codemirror_mode": {
    "name": "ipython",
    "version": 3
   },
   "file_extension": ".py",
   "mimetype": "text/x-python",
   "name": "python",
   "nbconvert_exporter": "python",
   "pygments_lexer": "ipython3",
   "version": "3.8.10"
  }
 },
 "nbformat": 4,
 "nbformat_minor": 4
}